{
 "cells": [
  {
   "cell_type": "code",
   "execution_count": 14,
   "metadata": {},
   "outputs": [],
   "source": [
    "import numpy as np\n",
    "import pandas as pd"
   ]
  },
  {
   "cell_type": "code",
   "execution_count": 2,
   "metadata": {},
   "outputs": [
    {
     "data": {
      "text/html": [
       "<div>\n",
       "<style scoped>\n",
       "    .dataframe tbody tr th:only-of-type {\n",
       "        vertical-align: middle;\n",
       "    }\n",
       "\n",
       "    .dataframe tbody tr th {\n",
       "        vertical-align: top;\n",
       "    }\n",
       "\n",
       "    .dataframe thead th {\n",
       "        text-align: right;\n",
       "    }\n",
       "</style>\n",
       "<table border=\"1\" class=\"dataframe\">\n",
       "  <thead>\n",
       "    <tr style=\"text-align: right;\">\n",
       "      <th></th>\n",
       "      <th>Unnamed: 0</th>\n",
       "      <th>id</th>\n",
       "      <th>date</th>\n",
       "      <th>lang</th>\n",
       "      <th>nil</th>\n",
       "      <th>longitude</th>\n",
       "      <th>latitude</th>\n",
       "      <th>text</th>\n",
       "    </tr>\n",
       "  </thead>\n",
       "  <tbody>\n",
       "    <tr>\n",
       "      <th>0</th>\n",
       "      <td>3</td>\n",
       "      <td>6.051590e+17</td>\n",
       "      <td>2015-05-31T23:48:49.000Z</td>\n",
       "      <td>en</td>\n",
       "      <td>6</td>\n",
       "      <td>9.180157</td>\n",
       "      <td>45.453071</td>\n",
       "      <td>#streetart #street #streetphotography #tagsfor...</td>\n",
       "    </tr>\n",
       "    <tr>\n",
       "      <th>1</th>\n",
       "      <td>5</td>\n",
       "      <td>6.051556e+17</td>\n",
       "      <td>2015-05-31T23:35:07.000Z</td>\n",
       "      <td>en</td>\n",
       "      <td>50</td>\n",
       "      <td>9.164507</td>\n",
       "      <td>45.452522</td>\n",
       "      <td>friend want wish good night finished design ce...</td>\n",
       "    </tr>\n",
       "    <tr>\n",
       "      <th>2</th>\n",
       "      <td>13</td>\n",
       "      <td>6.051490e+17</td>\n",
       "      <td>2015-05-31T23:09:07.000Z</td>\n",
       "      <td>it</td>\n",
       "      <td>71</td>\n",
       "      <td>9.140991</td>\n",
       "      <td>45.490120</td>\n",
       "      <td>chicchefs #expodistelle buonanotte terrazza pi...</td>\n",
       "    </tr>\n",
       "    <tr>\n",
       "      <th>3</th>\n",
       "      <td>17</td>\n",
       "      <td>6.051485e+17</td>\n",
       "      <td>2015-05-31T23:06:57.000Z</td>\n",
       "      <td>en</td>\n",
       "      <td>36</td>\n",
       "      <td>9.205012</td>\n",
       "      <td>45.443858</td>\n",
       "      <td>kid candy shop wonder three us friends real</td>\n",
       "    </tr>\n",
       "    <tr>\n",
       "      <th>4</th>\n",
       "      <td>18</td>\n",
       "      <td>6.051484e+17</td>\n",
       "      <td>2015-05-31T23:06:25.000Z</td>\n",
       "      <td>it</td>\n",
       "      <td>71</td>\n",
       "      <td>9.140991</td>\n",
       "      <td>45.490120</td>\n",
       "      <td>chicchefs #expodistelle #unicomilano gigante p...</td>\n",
       "    </tr>\n",
       "  </tbody>\n",
       "</table>\n",
       "</div>"
      ],
      "text/plain": [
       "   Unnamed: 0            id                      date lang  nil  longitude  \\\n",
       "0           3  6.051590e+17  2015-05-31T23:48:49.000Z   en    6   9.180157   \n",
       "1           5  6.051556e+17  2015-05-31T23:35:07.000Z   en   50   9.164507   \n",
       "2          13  6.051490e+17  2015-05-31T23:09:07.000Z   it   71   9.140991   \n",
       "3          17  6.051485e+17  2015-05-31T23:06:57.000Z   en   36   9.205012   \n",
       "4          18  6.051484e+17  2015-05-31T23:06:25.000Z   it   71   9.140991   \n",
       "\n",
       "    latitude                                               text  \n",
       "0  45.453071  #streetart #street #streetphotography #tagsfor...  \n",
       "1  45.452522  friend want wish good night finished design ce...  \n",
       "2  45.490120  chicchefs #expodistelle buonanotte terrazza pi...  \n",
       "3  45.443858        kid candy shop wonder three us friends real  \n",
       "4  45.490120  chicchefs #expodistelle #unicomilano gigante p...  "
      ]
     },
     "execution_count": 2,
     "metadata": {},
     "output_type": "execute_result"
    }
   ],
   "source": [
    "df = pd.read_csv(\"dati-twitter-clean.tsv\", sep=\"\\t\")\n",
    "df.head()"
   ]
  },
  {
   "cell_type": "code",
   "execution_count": 13,
   "metadata": {},
   "outputs": [],
   "source": [
    "outDf = outDf[[\"longitude\", \"latitude\"]]"
   ]
  },
  {
   "cell_type": "code",
   "execution_count": 16,
   "metadata": {},
   "outputs": [],
   "source": [
    "outDf[\"class\"] = np.random.choice(10, 1000)"
   ]
  },
  {
   "cell_type": "code",
   "execution_count": 17,
   "metadata": {},
   "outputs": [],
   "source": [
    "outDf.to_csv(\"example_data.csv\")"
   ]
  },
  {
   "cell_type": "code",
   "execution_count": 19,
   "metadata": {},
   "outputs": [
    {
     "data": {
      "text/plain": [
       "array(['a', 'd', 'ciao'], dtype='<U5')"
      ]
     },
     "execution_count": 19,
     "metadata": {},
     "output_type": "execute_result"
    }
   ],
   "source": [
    "np.random.choice([\"ciao\", \"1\", \"a\", \"b\", \"c\", \"d\", \"mamma\"], 3, replace=False)"
   ]
  },
  {
   "cell_type": "code",
   "execution_count": 21,
   "metadata": {},
   "outputs": [],
   "source": [
    "words = [\"ciao\", \"1\", \"a\", \"b\", \"c\", \"d\", \"mamma\"]\n",
    "out = {}\n",
    "for topic in range(10):\n",
    "    ws = np.random.choice(words, 3, replace=False)\n",
    "    weights = np.random.sample(3)\n",
    "    weights /= np.sum(weights)\n",
    "    out[topic] = list(zip(ws, weights))"
   ]
  },
  {
   "cell_type": "code",
   "execution_count": 25,
   "metadata": {},
   "outputs": [],
   "source": [
    "import json\n",
    "with open(\"example_words.json\", \"w\") as fp:\n",
    "    json.dump(out[1], fp)"
   ]
  },
  {
   "cell_type": "code",
   "execution_count": null,
   "metadata": {},
   "outputs": [],
   "source": []
  }
 ],
 "metadata": {
  "kernelspec": {
   "display_name": "Python 3",
   "language": "python",
   "name": "python3"
  },
  "language_info": {
   "codemirror_mode": {
    "name": "ipython",
    "version": 3
   },
   "file_extension": ".py",
   "mimetype": "text/x-python",
   "name": "python",
   "nbconvert_exporter": "python",
   "pygments_lexer": "ipython3",
   "version": "3.6.7"
  }
 },
 "nbformat": 4,
 "nbformat_minor": 2
}
